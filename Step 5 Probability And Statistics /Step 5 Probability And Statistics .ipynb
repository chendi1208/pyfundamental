{
 "cells": [
  {
   "cell_type": "markdown",
   "metadata": {},
   "source": [
    "# Introduction to Statistics\n",
    "\n",
    "## 1: Introduction To Scales\n",
    "\n",
    "A scale represents the possible values that a variable can have."
   ]
  },
  {
   "cell_type": "code",
   "execution_count": 1,
   "metadata": {
    "collapsed": true
   },
   "outputs": [],
   "source": [
    "# Load packages\n",
    "# For graphs\n",
    "import matplotlib.pyplot as plt\n",
    "% matplotlib inline\n",
    "# For statistics\n",
    "import scipy.stats as stats\n",
    "import scipy\n",
    "# For data analysis\n",
    "import numpy as np\n",
    "import pandas as pd\n",
    "# Random numbers\n",
    "import random\n",
    "\n",
    "from __future__ import division\n",
    "import math"
   ]
  },
  {
   "cell_type": "code",
   "execution_count": 1,
   "metadata": {
    "collapsed": false
   },
   "outputs": [
    {
     "data": {
      "text/plain": [
       "26"
      ]
     },
     "execution_count": 1,
     "metadata": {},
     "output_type": "execute_result"
    }
   ],
   "source": [
    "car_speeds = [10,20,30,50,20]\n",
    "mean_car_speed = sum(car_speeds) / len(car_speeds)\n",
    "mean_car_speed"
   ]
  },
  {
   "cell_type": "markdown",
   "metadata": {},
   "source": [
    "## 2: Discrete And Continuous Scales"
   ]
  },
  {
   "cell_type": "code",
   "execution_count": 2,
   "metadata": {
    "collapsed": false
   },
   "outputs": [
    {
     "data": {
      "image/png": "[encoded data removed]",
      "text/plain": [
       "<matplotlib.figure.Figure at 0x10a4225d0>"
      ]
     },
     "metadata": {},
     "output_type": "display_data"
    }
   ],
   "source": [
    "day_numbers = [1,2,3,4,5,6,7]\n",
    "snail_crawl_length = [.5,2,5,10,1,.25,4]\n",
    "\n",
    "plt.plot(day_numbers, snail_crawl_length)\n",
    "plt.show()"
   ]
  },
  {
   "cell_type": "markdown",
   "metadata": {
    "collapsed": true
   },
   "source": [
    "## 4: Working With Ordinal Scales\n",
    "\n",
    "Map 0 to \"none,\" 1 to \"a few,\" 2 to \"some,\" and so on."
   ]
  },
  {
   "cell_type": "code",
   "execution_count": 3,
   "metadata": {
    "collapsed": false
   },
   "outputs": [
    {
     "data": {
      "text/plain": [
       "[0, 2, 3, 0, 1, 0, 0]"
      ]
     },
     "execution_count": 3,
     "metadata": {},
     "output_type": "execute_result"
    }
   ],
   "source": [
    "survey_responses = [\"none\", \"some\", \"a lot\", \"none\", \"a few\", \"none\", \"none\"]\n",
    "survey_scale = [\"none\", \"a few\", \"some\", \"a lot\"]\n",
    "survey_number = [survey_scale.index(response) for response in survey_responses]\n",
    "survey_number"
   ]
  },
  {
   "cell_type": "code",
   "execution_count": 4,
   "metadata": {
    "collapsed": false
   },
   "outputs": [],
   "source": [
    "average_smoking = sum(survey_number) / len(survey_number)"
   ]
  },
  {
   "cell_type": "markdown",
   "metadata": {},
   "source": [
    "## 5: Grouping Values With Categorical Scales\n",
    "\n",
    "We can also have categorical scales, which group values into general categories.\n",
    "\n",
    "One example is *gender*, which can be *male* or *female*."
   ]
  },
  {
   "cell_type": "code",
   "execution_count": 5,
   "metadata": {
    "collapsed": true
   },
   "outputs": [],
   "source": [
    "gender = [\"male\", \"female\", \"female\", \"male\", \"male\", \"female\"]\n",
    "savings = [1200, 5000, 3400, 2400, 2800, 4100]"
   ]
  },
  {
   "cell_type": "code",
   "execution_count": 6,
   "metadata": {
    "collapsed": false
   },
   "outputs": [
    {
     "data": {
      "text/plain": [
       "2133"
      ]
     },
     "execution_count": 6,
     "metadata": {},
     "output_type": "execute_result"
    }
   ],
   "source": [
    "male_savings_list = [savings[i] for i in range(0,len(gender)) if gender[i]==\"male\"]\n",
    "female_savings_list = [savings[i] for i in range(0,len(gender)) if gender[i]==\"female\"]\n",
    "male_savings = sum(male_savings_list) / len(male_savings_list)\n",
    "male_savings"
   ]
  },
  {
   "cell_type": "markdown",
   "metadata": {},
   "source": [
    "## 6: Visualizing Counts With Frequency Histograms\n",
    "\n",
    "**Frequency histograms** give us a better understanding of where values fall within a data set."
   ]
  },
  {
   "cell_type": "code",
   "execution_count": 7,
   "metadata": {
    "collapsed": false
   },
   "outputs": [
    {
     "data": {
      "image/png": "[encoded data removed]",
      "text/plain": [
       "<matplotlib.figure.Figure at 0x1107d8a10>"
      ]
     },
     "metadata": {},
     "output_type": "display_data"
    }
   ],
   "source": [
    "student_scores = [15, 80, 95, 100, 45, 75, 65]\n",
    "plt.hist(student_scores)\n",
    "plt.show()"
   ]
  },
  {
   "cell_type": "markdown",
   "metadata": {},
   "source": [
    "## 7: Aggregating Values With Histogram Bins\n",
    "\n",
    "We'd like to point something out about what you saw on the previous screen. *matplotlib*'s default number of *bins* for a plot is 10. We had fewer values than that, so *matplotlib* displayed all of the values."
   ]
  },
  {
   "cell_type": "code",
   "execution_count": 8,
   "metadata": {
    "collapsed": false
   },
   "outputs": [
    {
     "data": {
      "image/png": "[encoded data removed]",
      "text/plain": [
       "<matplotlib.figure.Figure at 0x110979350>"
      ]
     },
     "metadata": {},
     "output_type": "display_data"
    }
   ],
   "source": [
    "average_speed = [10, 20, 25, 27, 28, 22, 15, 18, 17]\n",
    "plt.hist(average_speed)\n",
    "plt.show()"
   ]
  },
  {
   "cell_type": "code",
   "execution_count": 9,
   "metadata": {
    "collapsed": false
   },
   "outputs": [
    {
     "data": {
      "image/png": "[encoded data removed]",
      "text/plain": [
       "<matplotlib.figure.Figure at 0x110bf9b10>"
      ]
     },
     "metadata": {},
     "output_type": "display_data"
    }
   ],
   "source": [
    "plt.hist(average_speed, bins=2)\n",
    "plt.show()"
   ]
  },
  {
   "cell_type": "markdown",
   "metadata": {},
   "source": [
    "## 8: Measuring Data Skew"
   ]
  },
  {
   "cell_type": "code",
   "execution_count": 10,
   "metadata": {
    "collapsed": false
   },
   "outputs": [
    {
     "data": {
      "text/plain": [
       "-0.7165018793329461"
      ]
     },
     "execution_count": 10,
     "metadata": {},
     "output_type": "execute_result"
    }
   ],
   "source": [
    "scores_skew = stats.skew(student_scores)\n",
    "scores_skew"
   ]
  },
  {
   "cell_type": "markdown",
   "metadata": {},
   "source": [
    "## 9: Checking For Outliers With Kurtosis"
   ]
  },
  {
   "cell_type": "code",
   "execution_count": 11,
   "metadata": {
    "collapsed": false
   },
   "outputs": [
    {
     "data": {
      "text/plain": [
       "-0.5729127396504339"
      ]
     },
     "execution_count": 11,
     "metadata": {},
     "output_type": "execute_result"
    }
   ],
   "source": [
    "kurt = stats.kurtosis(student_scores)\n",
    "kurt"
   ]
  },
  {
   "cell_type": "markdown",
   "metadata": {},
   "source": [
    "## 10: Modality\n",
    "\n",
    "*Modality* refers to the number of modes, or peaks, in a distribution."
   ]
  },
  {
   "cell_type": "markdown",
   "metadata": {},
   "source": [
    "## 11: Measures Of Central Tendency\n",
    "\n",
    "Central tendency measures assess how likely the data points are to cluster around a central value."
   ]
  },
  {
   "cell_type": "markdown",
   "metadata": {
    "collapsed": true
   },
   "source": [
    "## 14: Removing Missing Data\n",
    "\n",
    "Not all of the data is available; details such as age are missing for some passengers. Before we can analyze the data, we have to do something about the missing rows.\n",
    "\n",
    "The easiest way to address them is to just remove all of the rows with missing data. This isn't necessarily the best solution in all cases, but we'll learn about other ways to handle these situations later on."
   ]
  },
  {
   "cell_type": "code",
   "execution_count": 14,
   "metadata": {
    "collapsed": false
   },
   "outputs": [
    {
     "name": "stdout",
     "output_type": "stream",
     "text": [
      "(1310, 14)\n"
     ]
    }
   ],
   "source": [
    "f = \"titanic_survival.csv\"\n",
    "titanic_survival = pd.read_csv(f)\n",
    "print(titanic_survival.shape) # look at how large the DataFrame is first"
   ]
  },
  {
   "cell_type": "code",
   "execution_count": 15,
   "metadata": {
    "collapsed": true
   },
   "outputs": [],
   "source": [
    "new_titanic_survival = titanic_survival.dropna(subset=[\"age\",\"sex\"])"
   ]
  },
  {
   "cell_type": "markdown",
   "metadata": {},
   "source": [
    "## 15: Plotting Age"
   ]
  },
  {
   "cell_type": "code",
   "execution_count": 19,
   "metadata": {
    "collapsed": false
   },
   "outputs": [
    {
     "data": {
      "image/png": "[encoded data removed]",
      "text/plain": [
       "<matplotlib.figure.Figure at 0x115e571d0>"
      ]
     },
     "metadata": {},
     "output_type": "display_data"
    }
   ],
   "source": [
    "plt.hist(new_titanic_survival[\"age\"])\n",
    "plt.axvline(np.median(new_titanic_survival[\"age\"]), color = \"b\")\n",
    "plt.axvline(new_titanic_survival[\"age\"].mean(), color = \"r\")\n",
    "plt.show()"
   ]
  },
  {
   "cell_type": "markdown",
   "metadata": {
    "collapsed": true
   },
   "source": [
    "## 16: Calculating Indexes For Age\n",
    "\n",
    "Now that we know what the distribution looks like, let's calculate its characteristics and central tendency measures."
   ]
  },
  {
   "cell_type": "code",
   "execution_count": 21,
   "metadata": {
    "collapsed": false
   },
   "outputs": [
    {
     "name": "stdout",
     "output_type": "stream",
     "text": [
      "29.8811345124 28.0 0.407087037948 0.140517802994\n"
     ]
    }
   ],
   "source": [
    "mean_age = new_titanic_survival[\"age\"].mean()\n",
    "median_age = np.median(new_titanic_survival[\"age\"])\n",
    "skew_age = stats.skew(new_titanic_survival[\"age\"])\n",
    "kurtosis_age = stats.kurtosis(new_titanic_survival[\"age\"])\n",
    "print mean_age, median_age, skew_age, kurtosis_age"
   ]
  },
  {
   "cell_type": "markdown",
   "metadata": {
    "collapsed": true
   },
   "source": [
    "# Standard Deviation and Correlation\n",
    "\n",
    "## 2: The Mean As The Center\n",
    "\n",
    "If we subtract the mean of a set of numbers from each of the numbers within that set, the overall total of all of the differences will always add up to zero."
   ]
  },
  {
   "cell_type": "code",
   "execution_count": 25,
   "metadata": {
    "collapsed": false
   },
   "outputs": [
    {
     "name": "stdout",
     "output_type": "stream",
     "text": [
      "5\n"
     ]
    }
   ],
   "source": [
    "values = [2, 4, 5, -1, 0, 10, 8, 9]\n",
    "values_mean = sum(values) / len(values)\n",
    "differences = [i - values_mean for i in values]\n",
    "print(sum(differences)) # float problem"
   ]
  },
  {
   "cell_type": "markdown",
   "metadata": {},
   "source": [
    "## 3: Finding Variance"
   ]
  },
  {
   "cell_type": "code",
   "execution_count": 3,
   "metadata": {
    "collapsed": false
   },
   "outputs": [
    {
     "data": {
      "text/html": [
       "<div>\n",
       "<style>\n",
       "    .dataframe thead tr:only-child th {\n",
       "        text-align: right;\n",
       "    }\n",
       "\n",
       "    .dataframe thead th {\n",
       "        text-align: left;\n",
       "    }\n",
       "\n",
       "    .dataframe tbody tr th {\n",
       "        vertical-align: top;\n",
       "    }\n",
       "</style>\n",
       "<table border=\"1\" class=\"dataframe\">\n",
       "  <thead>\n",
       "    <tr style=\"text-align: right;\">\n",
       "      <th></th>\n",
       "      <th>player</th>\n",
       "      <th>pos</th>\n",
       "      <th>age</th>\n",
       "      <th>bref_team_id</th>\n",
       "      <th>g</th>\n",
       "      <th>gs</th>\n",
       "      <th>mp</th>\n",
       "      <th>fg</th>\n",
       "      <th>fga</th>\n",
       "      <th>fg.</th>\n",
       "      <th>...</th>\n",
       "      <th>drb</th>\n",
       "      <th>trb</th>\n",
       "      <th>ast</th>\n",
       "      <th>stl</th>\n",
       "      <th>blk</th>\n",
       "      <th>tov</th>\n",
       "      <th>pf</th>\n",
       "      <th>pts</th>\n",
       "      <th>season</th>\n",
       "      <th>season_end</th>\n",
       "    </tr>\n",
       "  </thead>\n",
       "  <tbody>\n",
       "    <tr>\n",
       "      <th>0</th>\n",
       "      <td>Quincy Acy</td>\n",
       "      <td>SF</td>\n",
       "      <td>23</td>\n",
       "      <td>TOT</td>\n",
       "      <td>63</td>\n",
       "      <td>0</td>\n",
       "      <td>847</td>\n",
       "      <td>66</td>\n",
       "      <td>141</td>\n",
       "      <td>0.468</td>\n",
       "      <td>...</td>\n",
       "      <td>144</td>\n",
       "      <td>216</td>\n",
       "      <td>28</td>\n",
       "      <td>23</td>\n",
       "      <td>26</td>\n",
       "      <td>30</td>\n",
       "      <td>122</td>\n",
       "      <td>171</td>\n",
       "      <td>2013-2014</td>\n",
       "      <td>2013</td>\n",
       "    </tr>\n",
       "    <tr>\n",
       "      <th>1</th>\n",
       "      <td>Steven Adams</td>\n",
       "      <td>C</td>\n",
       "      <td>20</td>\n",
       "      <td>OKC</td>\n",
       "      <td>81</td>\n",
       "      <td>20</td>\n",
       "      <td>1197</td>\n",
       "      <td>93</td>\n",
       "      <td>185</td>\n",
       "      <td>0.503</td>\n",
       "      <td>...</td>\n",
       "      <td>190</td>\n",
       "      <td>332</td>\n",
       "      <td>43</td>\n",
       "      <td>40</td>\n",
       "      <td>57</td>\n",
       "      <td>71</td>\n",
       "      <td>203</td>\n",
       "      <td>265</td>\n",
       "      <td>2013-2014</td>\n",
       "      <td>2013</td>\n",
       "    </tr>\n",
       "    <tr>\n",
       "      <th>2</th>\n",
       "      <td>Jeff Adrien</td>\n",
       "      <td>PF</td>\n",
       "      <td>27</td>\n",
       "      <td>TOT</td>\n",
       "      <td>53</td>\n",
       "      <td>12</td>\n",
       "      <td>961</td>\n",
       "      <td>143</td>\n",
       "      <td>275</td>\n",
       "      <td>0.520</td>\n",
       "      <td>...</td>\n",
       "      <td>204</td>\n",
       "      <td>306</td>\n",
       "      <td>38</td>\n",
       "      <td>24</td>\n",
       "      <td>36</td>\n",
       "      <td>39</td>\n",
       "      <td>108</td>\n",
       "      <td>362</td>\n",
       "      <td>2013-2014</td>\n",
       "      <td>2013</td>\n",
       "    </tr>\n",
       "    <tr>\n",
       "      <th>3</th>\n",
       "      <td>Arron Afflalo</td>\n",
       "      <td>SG</td>\n",
       "      <td>28</td>\n",
       "      <td>ORL</td>\n",
       "      <td>73</td>\n",
       "      <td>73</td>\n",
       "      <td>2552</td>\n",
       "      <td>464</td>\n",
       "      <td>1011</td>\n",
       "      <td>0.459</td>\n",
       "      <td>...</td>\n",
       "      <td>230</td>\n",
       "      <td>262</td>\n",
       "      <td>248</td>\n",
       "      <td>35</td>\n",
       "      <td>3</td>\n",
       "      <td>146</td>\n",
       "      <td>136</td>\n",
       "      <td>1330</td>\n",
       "      <td>2013-2014</td>\n",
       "      <td>2013</td>\n",
       "    </tr>\n",
       "    <tr>\n",
       "      <th>4</th>\n",
       "      <td>Alexis Ajinca</td>\n",
       "      <td>C</td>\n",
       "      <td>25</td>\n",
       "      <td>NOP</td>\n",
       "      <td>56</td>\n",
       "      <td>30</td>\n",
       "      <td>951</td>\n",
       "      <td>136</td>\n",
       "      <td>249</td>\n",
       "      <td>0.546</td>\n",
       "      <td>...</td>\n",
       "      <td>183</td>\n",
       "      <td>277</td>\n",
       "      <td>40</td>\n",
       "      <td>23</td>\n",
       "      <td>46</td>\n",
       "      <td>63</td>\n",
       "      <td>187</td>\n",
       "      <td>328</td>\n",
       "      <td>2013-2014</td>\n",
       "      <td>2013</td>\n",
       "    </tr>\n",
       "  </tbody>\n",
       "</table>\n",
       "<p>5 rows × 31 columns</p>\n",
       "</div>"
      ],
      "text/plain": [
       "          player pos  age bref_team_id   g  gs    mp   fg   fga    fg.  \\\n",
       "0     Quincy Acy  SF   23          TOT  63   0   847   66   141  0.468   \n",
       "1   Steven Adams   C   20          OKC  81  20  1197   93   185  0.503   \n",
       "2    Jeff Adrien  PF   27          TOT  53  12   961  143   275  0.520   \n",
       "3  Arron Afflalo  SG   28          ORL  73  73  2552  464  1011  0.459   \n",
       "4  Alexis Ajinca   C   25          NOP  56  30   951  136   249  0.546   \n",
       "\n",
       "      ...      drb  trb  ast  stl  blk  tov   pf   pts     season  season_end  \n",
       "0     ...      144  216   28   23   26   30  122   171  2013-2014        2013  \n",
       "1     ...      190  332   43   40   57   71  203   265  2013-2014        2013  \n",
       "2     ...      204  306   38   24   36   39  108   362  2013-2014        2013  \n",
       "3     ...      230  262  248   35    3  146  136  1330  2013-2014        2013  \n",
       "4     ...      183  277   40   23   46   63  187   328  2013-2014        2013  \n",
       "\n",
       "[5 rows x 31 columns]"
      ]
     },
     "execution_count": 3,
     "metadata": {},
     "output_type": "execute_result"
    }
   ],
   "source": [
    "nba_stats = pd.read_csv(\"nba_2013.csv\")\n",
    "nba_stats.head(5)"
   ]
  },
  {
   "cell_type": "code",
   "execution_count": 9,
   "metadata": {
    "collapsed": false
   },
   "outputs": [
    {
     "data": {
      "text/plain": [
       "5060.8373148456349"
      ]
     },
     "execution_count": 9,
     "metadata": {},
     "output_type": "execute_result"
    }
   ],
   "source": [
    "pf_mean = nba_stats[\"pf\"].mean()\n",
    "variance = 0\n",
    "for p in nba_stats[\"pf\"]:\n",
    "    difference = p - pf_mean\n",
    "    square_difference = difference ** 2\n",
    "    variance += square_difference\n",
    "variance = variance / len(nba_stats[\"pf\"])\n",
    "\n",
    "variance"
   ]
  },
  {
   "cell_type": "markdown",
   "metadata": {},
   "source": [
    "## 7: Calculating Standard Deviation"
   ]
  },
  {
   "cell_type": "code",
   "execution_count": 13,
   "metadata": {
    "collapsed": false
   },
   "outputs": [
    {
     "data": {
      "text/plain": [
       "71.13956223400335"
      ]
     },
     "execution_count": 13,
     "metadata": {},
     "output_type": "execute_result"
    }
   ],
   "source": [
    "def calc_column_deviation(column):\n",
    "    mean = column.mean()\n",
    "    variance = 0\n",
    "    for p in column:\n",
    "        difference = p - mean\n",
    "        square_difference = difference ** 2\n",
    "        variance += square_difference\n",
    "    variance = variance / len(column)\n",
    "    return variance ** (0.5)\n",
    "\n",
    "calc_column_deviation(nba_stats[\"pf\"])"
   ]
  },
  {
   "cell_type": "markdown",
   "metadata": {},
   "source": [
    "## 8: Finding Standard Deviation Distance"
   ]
  },
  {
   "cell_type": "code",
   "execution_count": 14,
   "metadata": {
    "collapsed": false
   },
   "outputs": [
    {
     "data": {
      "image/png": "[encoded data removed]",
      "text/plain": [
       "<matplotlib.figure.Figure at 0x112238290>"
      ]
     },
     "metadata": {},
     "output_type": "display_data"
    }
   ],
   "source": [
    "plt.hist(nba_stats[\"pf\"])\n",
    "mean = nba_stats[\"pf\"].mean()\n",
    "plt.axvline(mean, color=\"r\")\n",
    "std_dev = nba_stats[\"pf\"].std() # We can calculate standard deviation by using the std() method on a pandas series.\n",
    "plt.axvline(mean - std_dev, color=\"g\")\n",
    "plt.axvline(mean + std_dev, color=\"g\")\n",
    "plt.show()"
   ]
  },
  {
   "cell_type": "code",
   "execution_count": 18,
   "metadata": {
    "collapsed": true
   },
   "outputs": [],
   "source": [
    "QA_total_distance = nba_stats[\"pf\"][0] - mean\n",
    "QA_standard_deviation_distance = QA_total_distance / std_dev"
   ]
  },
  {
   "cell_type": "markdown",
   "metadata": {},
   "source": [
    "## 9: Working With The Normal Distribution\n",
    "\n",
    "We can generate a normal distribution by using a **probability density function**."
   ]
  },
  {
   "cell_type": "code",
   "execution_count": 19,
   "metadata": {
    "collapsed": false
   },
   "outputs": [
    {
     "data": {
      "image/png": "[encoded data removed]",
      "text/plain": [
       "<matplotlib.figure.Figure at 0x103ddec90>"
      ]
     },
     "metadata": {},
     "output_type": "display_data"
    }
   ],
   "source": [
    "# The norm module has a pdf function (pdf stands for probability density function)\n",
    "from scipy.stats import norm\n",
    "points = np.arange(-1, 1, 0.01)\n",
    "# The norm.pdf function will take the points vector and convert it into a probability vector\n",
    "# The distribution will be centered on 0, and will have a standard devation of .3\n",
    "probabilities = norm.pdf(points, 0, .3)\n",
    "\n",
    "plt.plot(points, probabilities)\n",
    "plt.show()"
   ]
  },
  {
   "cell_type": "markdown",
   "metadata": {},
   "source": [
    "## 10: Normal Distribution Deviation\n",
    "\n",
    "About 68% of the data is within one standard deviation, roughly 95% is within two standard deviations, and about 99% is within three standard deviations."
   ]
  },
  {
   "cell_type": "code",
   "execution_count": 24,
   "metadata": {
    "collapsed": false
   },
   "outputs": [
    {
     "name": "stdout",
     "output_type": "stream",
     "text": [
      "0 0 1\n"
     ]
    }
   ],
   "source": [
    "wing_lengths = [36, 37, 38, 38, 39, 39, 40, 40, 40, 40, 41, 41, 41, 41, 41, 41, 42, 42, 42, 42, 42, 42, 42, 43, 43, 43, 43, 43, 43, 43, 43, 44, 44, 44, 44, 44, 44, 44, 44, 44, 45, 45, 45, 45, 45, 45, 45, 45, 45, 45, 46, 46, 46, 46, 46, 46, 46, 46, 46, 46, 47, 47, 47, 47, 47, 47, 47, 47, 47, 48, 48, 48, 48, 48, 48, 48, 48, 49, 49, 49, 49, 49, 49, 49, 50, 50, 50, 50, 50, 50, 51, 51, 51, 51, 52, 52, 53, 53, 54, 55]\n",
    "mean = sum(wing_lengths) / len(wing_lengths)\n",
    "square_difference = [(i - mean) ** 2 for i in wing_lengths]\n",
    "variance = sum(square_difference) / len(wing_lengths)\n",
    "standard_deviation = variance ** (0.5)\n",
    "standard_deviations = [(i - mean) / standard_deviation for i in wing_lengths]\n",
    "\n",
    "def within_percentage(deviations, count):\n",
    "    within = [i for i in deviations if i <= count and i >= -count]\n",
    "    return len(within) / len(wing_lengths)\n",
    "\n",
    "print within_percentage(standard_deviations, 1), within_percentage(standard_deviations, 2), within_percentage(standard_deviations, 3)"
   ]
  },
  {
   "cell_type": "markdown",
   "metadata": {},
   "source": [
    "## 11: Using Scatterplots To Plot Correlations"
   ]
  },
  {
   "cell_type": "code",
   "execution_count": 25,
   "metadata": {
    "collapsed": false
   },
   "outputs": [
    {
     "data": {
      "image/png": "[encoded data removed]",
      "text/plain": [
       "<matplotlib.figure.Figure at 0x11221e4d0>"
      ]
     },
     "metadata": {},
     "output_type": "display_data"
    }
   ],
   "source": [
    "plt.scatter(nba_stats[\"fga\"], nba_stats[\"pts\"])\n",
    "plt.show()"
   ]
  },
  {
   "cell_type": "markdown",
   "metadata": {},
   "source": [
    "## 12: Measuring Correlation With Pearson's R\n",
    "\n",
    "The most common way to measure correlation is to use **Pearson's r**, which we also call an **r-value**."
   ]
  },
  {
   "cell_type": "code",
   "execution_count": 31,
   "metadata": {
    "collapsed": false
   },
   "outputs": [
    {
     "name": "stdout",
     "output_type": "stream",
     "text": [
      "0.989211400652 0.0\n"
     ]
    }
   ],
   "source": [
    "r, p_value = stats.pearsonr(nba_stats[\"fga\"], nba_stats[\"pts\"])\n",
    "print r, p_value"
   ]
  },
  {
   "cell_type": "markdown",
   "metadata": {},
   "source": [
    "## 14: Calculate Correlation With The Std() Method"
   ]
  },
  {
   "cell_type": "code",
   "execution_count": 33,
   "metadata": {
    "collapsed": false
   },
   "outputs": [
    {
     "data": {
      "text/plain": [
       "0.98921140065216306"
      ]
     },
     "execution_count": 33,
     "metadata": {},
     "output_type": "execute_result"
    }
   ],
   "source": [
    "np.cov(nba_stats[\"fga\"], nba_stats[\"pts\"])[0,1] / ((nba_stats[\"fga\"].var() * nba_stats[\"pts\"].var())** (0.5))"
   ]
  },
  {
   "cell_type": "markdown",
   "metadata": {},
   "source": [
    "# Challenge: Descriptive Statistics"
   ]
  },
  {
   "cell_type": "code",
   "execution_count": 2,
   "metadata": {
    "collapsed": false
   },
   "outputs": [
    {
     "data": {
      "text/plain": [
       "<matplotlib.axes._subplots.AxesSubplot at 0x115831f90>"
      ]
     },
     "execution_count": 2,
     "metadata": {},
     "output_type": "execute_result"
    },
    {
     "data": {
      "image/png": "[encoded data removed]",
      "text/plain": [
       "<matplotlib.figure.Figure at 0x1120bd1d0>"
      ]
     },
     "metadata": {},
     "output_type": "display_data"
    }
   ],
   "source": [
    "movie_reviews = pd.read_csv(\"fandango_score_comparison.csv\")\n",
    "fig = plt.figure(figsize=(5,12))\n",
    "ax1 = fig.add_subplot(4,1,1)\n",
    "ax2 = fig.add_subplot(4,1,2)\n",
    "ax3 = fig.add_subplot(4,1,3)\n",
    "ax4 = fig.add_subplot(4,1,4)\n",
    "\n",
    "ax1.set_xlim(0,5.0)\n",
    "ax2.set_xlim(0,5.0)\n",
    "ax3.set_xlim(0,5.0)\n",
    "ax4.set_xlim(0,5.0)\n",
    "\n",
    "movie_reviews[\"RT_user_norm\"].hist(ax=ax1)\n",
    "movie_reviews[\"Metacritic_user_nom\"].hist(ax=ax2)\n",
    "movie_reviews[\"Fandango_Ratingvalue\"].hist(ax=ax3)\n",
    "movie_reviews[\"IMDB_norm\"].hist(ax=ax4)"
   ]
  },
  {
   "cell_type": "markdown",
   "metadata": {},
   "source": [
    "## 2: Mean"
   ]
  },
  {
   "cell_type": "code",
   "execution_count": 6,
   "metadata": {
    "collapsed": false
   },
   "outputs": [
    {
     "data": {
      "text/plain": [
       "RT_user_norm            3.193836\n",
       "Metacritic_user_nom     3.259589\n",
       "Fandango_Ratingvalue    3.845205\n",
       "IMDB_norm               3.368493\n",
       "dtype: float64"
      ]
     },
     "execution_count": 6,
     "metadata": {},
     "output_type": "execute_result"
    }
   ],
   "source": [
    "def calc_mean(series):\n",
    "    vals = series.values\n",
    "    mean = sum(vals) / len(vals)\n",
    "    return mean\n",
    "\n",
    "columns = [\"RT_user_norm\", \"Metacritic_user_nom\", \"Fandango_Ratingvalue\", \"IMDB_norm\"]\n",
    "user_reviews = movie_reviews[columns]\n",
    "user_reviews_means = user_reviews.apply(calc_mean)\n",
    "\n",
    "rt_mean = user_reviews_means[\"RT_user_norm\"]\n",
    "mc_mean = user_reviews_means[\"Metacritic_user_nom\"]\n",
    "fg_mean = user_reviews_means[\"Fandango_Ratingvalue\"]\n",
    "id_mean = user_reviews_means[\"IMDB_norm\"]\n",
    "\n",
    "user_reviews_means"
   ]
  },
  {
   "cell_type": "markdown",
   "metadata": {},
   "source": [
    "## 3: Variance And Standard Deviation"
   ]
  },
  {
   "cell_type": "code",
   "execution_count": 9,
   "metadata": {
    "collapsed": false
   },
   "outputs": [
    {
     "data": {
      "text/plain": [
       "RT_user_norm            0.995578\n",
       "Metacritic_user_nom     0.566655\n",
       "Fandango_Ratingvalue    0.251107\n",
       "IMDB_norm               0.228220\n",
       "dtype: float64"
      ]
     },
     "execution_count": 9,
     "metadata": {},
     "output_type": "execute_result"
    }
   ],
   "source": [
    "def calc_variance(series):\n",
    "    mean = calc_mean(series)\n",
    "    squared_deviations = (series - mean) ** 2\n",
    "    mean_squared_deviations = calc_mean(squared_deviations)\n",
    "    return mean_squared_deviations\n",
    "\n",
    "user_reviews_variances = user_reviews.apply(calc_variance)\n",
    "user_reviews_variances"
   ]
  },
  {
   "cell_type": "markdown",
   "metadata": {},
   "source": [
    "## 4: Scatter Plots\n",
    "\n",
    "Are movies that are highly rated on Rotten Tomatoes, IMDB, and Metacritic also highly rated on Fandango?"
   ]
  },
  {
   "cell_type": "code",
   "execution_count": 10,
   "metadata": {
    "collapsed": false
   },
   "outputs": [
    {
     "data": {
      "text/plain": [
       "<matplotlib.collections.PathCollection at 0x1162b2d50>"
      ]
     },
     "execution_count": 10,
     "metadata": {},
     "output_type": "execute_result"
    },
    {
     "data": {
      "image/png": "[encoded data removed]",
      "text/plain": [
       "<matplotlib.figure.Figure at 0x115a16650>"
      ]
     },
     "metadata": {},
     "output_type": "display_data"
    }
   ],
   "source": [
    "fig = plt.figure(figsize=(4,8))\n",
    "ax1 = fig.add_subplot(3,1,1)\n",
    "ax2 = fig.add_subplot(3,1,2)\n",
    "ax3 = fig.add_subplot(3,1,3)\n",
    "\n",
    "ax1.set_xlim(0,5.0)\n",
    "ax2.set_xlim(0,5.0)\n",
    "ax3.set_xlim(0,5.0)\n",
    "\n",
    "ax1.scatter(movie_reviews[\"Fandango_Ratingvalue\"],movie_reviews[\"RT_user_norm\"])\n",
    "ax2.scatter(movie_reviews[\"Fandango_Ratingvalue\"],movie_reviews[\"Metacritic_user_nom\"])\n",
    "ax3.scatter(movie_reviews[\"Fandango_Ratingvalue\"],movie_reviews[\"IMDB_norm\"])"
   ]
  },
  {
   "cell_type": "markdown",
   "metadata": {},
   "source": [
    "## 5: Covariance\n",
    "\n",
    "It seems like Rotten Tomatoes and IMDB user reviews correlate the most with Fandango user reviews while Metacritic only weakly correlates. Let's write a function that to calculates the covariance values."
   ]
  },
  {
   "cell_type": "code",
   "execution_count": 11,
   "metadata": {
    "collapsed": false
   },
   "outputs": [
    {
     "name": "stdout",
     "output_type": "stream",
     "text": [
      "('Covariance between Rotten Tomatoes and Fandango:', 0.36216222555826522)\n",
      "('Covariance between Metacritic and Fandango', 0.12710076937511833)\n",
      "('Covariance between IMDB and Fandango', 0.14371880277725646)\n"
     ]
    }
   ],
   "source": [
    "def calc_covariance(series_one, series_two):\n",
    "    x = series_one.values\n",
    "    y = series_two.values\n",
    "    x_mean = calc_mean(series_one)\n",
    "    y_mean = calc_mean(series_one)\n",
    "    x_diffs = [i - x_mean for i in x]\n",
    "    y_diffs = [i - y_mean for i in y]\n",
    "    codeviates = [x_diffs[i]*y_diffs[i] for i in range(len(x))]\n",
    "    return sum(codeviates) / len(codeviates)\n",
    "\n",
    "rt_fg_covar = calc_covariance(movie_reviews[\"RT_user_norm\"], movie_reviews[\"Fandango_Ratingvalue\"])\n",
    "mc_fg_covar = calc_covariance(movie_reviews[\"Metacritic_user_nom\"], movie_reviews[\"Fandango_Ratingvalue\"])\n",
    "id_fg_covar = calc_covariance(movie_reviews[\"IMDB_norm\"], movie_reviews[\"Fandango_Ratingvalue\"])\n",
    "\n",
    "print(\"Covariance between Rotten Tomatoes and Fandango:\", rt_fg_covar)\n",
    "print(\"Covariance between Metacritic and Fandango\", mc_fg_covar)\n",
    "print(\"Covariance between IMDB and Fandango\", id_fg_covar)"
   ]
  },
  {
   "cell_type": "markdown",
   "metadata": {},
   "source": [
    "## 6: Correlation"
   ]
  },
  {
   "cell_type": "code",
   "execution_count": 13,
   "metadata": {
    "collapsed": false
   },
   "outputs": [
    {
     "name": "stdout",
     "output_type": "stream",
     "text": [
      "('Correlation between Rotten Tomatoes and Fandango', 0.72432899424931263)\n",
      "('Correlation between Metacritic and Fandango', 0.33694531426495111)\n",
      "('Correlation between IMDB and Fandango', 0.60035417726263551)\n"
     ]
    }
   ],
   "source": [
    "def calc_correlation(series_one, series_two):\n",
    "    return calc_covariance(series_one, series_two) / (calc_variance(series_one)*calc_variance(series_two))**(0.5)\n",
    "\n",
    "rt_fg_corr = calc_correlation(movie_reviews[\"RT_user_norm\"], movie_reviews[\"Fandango_Ratingvalue\"])\n",
    "mc_fg_corr = calc_correlation(movie_reviews[\"Metacritic_user_nom\"], movie_reviews[\"Fandango_Ratingvalue\"])\n",
    "id_fg_corr = calc_correlation(movie_reviews[\"IMDB_norm\"], movie_reviews[\"Fandango_Ratingvalue\"])\n",
    "\n",
    "print(\"Correlation between Rotten Tomatoes and Fandango\", rt_fg_corr)\n",
    "print(\"Correlation between Metacritic and Fandango\", mc_fg_corr)\n",
    "print(\"Correlation between IMDB and Fandango\", id_fg_corr)"
   ]
  },
  {
   "cell_type": "markdown",
   "metadata": {},
   "source": [
    "# Linear regression\n",
    "\n",
    "## 2: Drawing Lines\n",
    "\n",
    "A simple line is y=x. This means that the value of a point on the y-axis is the same as the corresponding value on the x-axis."
   ]
  },
  {
   "cell_type": "code",
   "execution_count": 16,
   "metadata": {
    "collapsed": false
   },
   "outputs": [
    {
     "data": {
      "image/png": "[encoded data removed]",
      "text/plain": [
       "<matplotlib.figure.Figure at 0x1159e2ad0>"
      ]
     },
     "metadata": {},
     "output_type": "display_data"
    }
   ],
   "source": [
    "x = [0, 1, 2, 3, 4, 5]\n",
    "y = x\n",
    "plt.plot(x,y)\n",
    "plt.show()"
   ]
  },
  {
   "cell_type": "markdown",
   "metadata": {},
   "source": [
    "## 3: Working With Slope"
   ]
  },
  {
   "cell_type": "code",
   "execution_count": 19,
   "metadata": {
    "collapsed": false
   },
   "outputs": [
    {
     "data": {
      "text/plain": [
       "[0, 1, 2, 3, 4, 5, 0, 1, 2, 3, 4, 5]"
      ]
     },
     "execution_count": 19,
     "metadata": {},
     "output_type": "execute_result"
    }
   ],
   "source": [
    "x = [0, 1, 2, 3, 4, 5]\n",
    "y = 2 * x\n",
    "y"
   ]
  },
  {
   "cell_type": "code",
   "execution_count": 20,
   "metadata": {
    "collapsed": false
   },
   "outputs": [
    {
     "data": {
      "image/png": "[encoded data removed]",
      "text/plain": [
       "<matplotlib.figure.Figure at 0x11670f190>"
      ]
     },
     "metadata": {},
     "output_type": "display_data"
    }
   ],
   "source": [
    "x = np.asarray([0, 1, 2, 3, 4, 5])\n",
    "y = 2 * x\n",
    "plt.plot(x, y)\n",
    "plt.show()"
   ]
  },
  {
   "cell_type": "markdown",
   "metadata": {},
   "source": [
    "## 4: Starting Out With Linear Regression\n",
    "\n",
    "We'll calculate slope first -- the formula is cov(x,y)σx2, which is just the covariance of x and y divided by the variance of x.\n",
    "\n",
    "We can use the `cov` function to calculate covariance, and the `.var()` method on Pandas series to calculate variance."
   ]
  },
  {
   "cell_type": "code",
   "execution_count": 22,
   "metadata": {
    "collapsed": false
   },
   "outputs": [
    {
     "data": {
      "text/plain": [
       "-90.942399942137811"
      ]
     },
     "execution_count": 22,
     "metadata": {},
     "output_type": "execute_result"
    }
   ],
   "source": [
    "wine_quality = pd.read_csv(\"wine_quality_white.csv\")\n",
    "slope_density = np.cov(wine_quality[\"density\"], wine_quality[\"quality\"])[0,1] / wine_quality[\"density\"].var()\n",
    "slope_density"
   ]
  },
  {
   "cell_type": "markdown",
   "metadata": {},
   "source": [
    "## 5: Finishing Linear Regression\n",
    "\n",
    "We can compute the intercept by taking the slope we calculated and doing this: y¯−mx¯. \n",
    "\n",
    "Remember that we can calculate the mean by using the `.mean()` method."
   ]
  },
  {
   "cell_type": "code",
   "execution_count": 24,
   "metadata": {
    "collapsed": false
   },
   "outputs": [
    {
     "data": {
      "text/plain": [
       "96.277144576050816"
      ]
     },
     "execution_count": 24,
     "metadata": {},
     "output_type": "execute_result"
    }
   ],
   "source": [
    "intercept_density = wine_quality[\"quality\"].mean() - (slope_density * wine_quality[\"density\"].mean())\n",
    "intercept_density"
   ]
  },
  {
   "cell_type": "markdown",
   "metadata": {},
   "source": [
    "## 6: Making Predictions\n",
    "\n",
    "Depending on how correlated the predictor and the value being predicted are, the predictions may be good or bad.\n",
    "\n",
    "Let's look at making predictions now, and we'll move on to figuring out how good they are."
   ]
  },
  {
   "cell_type": "code",
   "execution_count": 25,
   "metadata": {
    "collapsed": true
   },
   "outputs": [],
   "source": [
    "def calc_slope(x, y):\n",
    "    return np.cov(x,y) / x.var()\n",
    "\n",
    "def calc_intercept(x, y, slope):\n",
    "    return y.mean() - (slope * x.mean())\n",
    "\n",
    "slope = calc_slope(wine_quality[\"density\"], wine_quality[\"quality\"])\n",
    "intercept = calc_intercept(wine_quality[\"density\"], wine_quality[\"quality\"], slope)\n",
    "\n",
    "def compute_predicted_y(x):\n",
    "    return slope * x + intercept\n",
    "\n",
    "predicted_quality = wine_quality[\"density\"].apply(compute_predicted_y)"
   ]
  },
  {
   "cell_type": "markdown",
   "metadata": {},
   "source": [
    "## 7: Finding Error\n",
    "\n",
    "The `linregress` function from *scipy* makes it simple to do linear regression."
   ]
  },
  {
   "cell_type": "code",
   "execution_count": 26,
   "metadata": {
    "collapsed": false
   },
   "outputs": [
    {
     "name": "stdout",
     "output_type": "stream",
     "text": [
      "-90.9423999421\n",
      "96.2771445761\n"
     ]
    }
   ],
   "source": [
    "slope, intercept, r_value, p_value, stderr_slope = stats.linregress(wine_quality[\"density\"], wine_quality[\"quality\"])\n",
    "\n",
    "print(slope)\n",
    "print(intercept)\n",
    "\n",
    "predicted_y = np.asarray([slope * x + intercept for x in wine_quality[\"density\"]])\n",
    "residuals = (wine_quality[\"quality\"] - predicted_y) ** 2\n",
    "rss = sum(residuals)"
   ]
  },
  {
   "cell_type": "markdown",
   "metadata": {},
   "source": [
    "## 8: Standard Error\n",
    "\n",
    "The equation for standard error is RSSn−2.\n",
    "\n",
    "You take the sum of squared residuals, divide by the number of y-points minus two, and then take the square root."
   ]
  },
  {
   "cell_type": "code",
   "execution_count": 28,
   "metadata": {
    "collapsed": false
   },
   "outputs": [],
   "source": [
    "stderr = (rss / (len(wine_quality[\"quality\"]) - 2)) ** .5\n",
    "\n",
    "def within_percentage(y, predicted_y, stderr, error_count):\n",
    "    within = stderr * error_count\n",
    "    difference = abs(predicted_y - y)\n",
    "    lower_differences = [d for d in difference if d <= within]\n",
    "    within_count = len(lower_differences)\n",
    "    return within_count / len(y)\n",
    "\n",
    "within_one = within_percentage(wine_quality[\"quality\"], predicted_y, stderr, 1)\n",
    "within_two = within_percentage(wine_quality[\"quality\"], predicted_y, stderr, 2)\n",
    "within_three = within_percentage(wine_quality[\"quality\"], predicted_y, stderr, 3)"
   ]
  },
  {
   "cell_type": "markdown",
   "metadata": {},
   "source": [
    "# Distributions and sampling\n",
    "\n",
    "## 1: Exploring The Data\n",
    "\n",
    "### Instructions\n",
    "\n",
    "- Find the county with the lowest median income in the US (`median_income`). Assign the name of the county (`county`) to `lowest_income_county`.\n",
    "- Find the county that has more than `500000` residents with the lowest median income. Assign the name of the county to `lowest_income_high_pop_county`."
   ]
  },
  {
   "cell_type": "code",
   "execution_count": 34,
   "metadata": {
    "collapsed": false
   },
   "outputs": [
    {
     "name": "stdout",
     "output_type": "stream",
     "text": [
      "     id                   county  pop_over_25  median_income  \\\n",
      "0  1001  Autauga County, Alabama        35696          34581   \n",
      "1  1003  Baldwin County, Alabama       130063          31352   \n",
      "\n",
      "   median_income_no_hs  median_income_hs  median_income_some_college  \\\n",
      "0                17946             30157                       33225   \n",
      "1                17474             25242                       30922   \n",
      "\n",
      "   median_income_college  median_income_graduate_degree  \n",
      "0                  53248                          68125  \n",
      "1                  46017                          55933  \n"
     ]
    }
   ],
   "source": [
    "income = pd.read_csv(\"us_income.csv\")\n",
    "print(income.head(2))"
   ]
  },
  {
   "cell_type": "code",
   "execution_count": 33,
   "metadata": {
    "collapsed": false
   },
   "outputs": [
    {
     "name": "stdout",
     "output_type": "stream",
     "text": [
      "Starr County, Texas Miami-Dade County, Florida\n"
     ]
    }
   ],
   "source": [
    "lowest_income_county = income[\"county\"][income[\"median_income\"].idxmin()]\n",
    "\n",
    "high_pop = income[income[\"pop_over_25\"] > 500000]\n",
    "lowest_income_high_pop_county = high_pop[\"county\"][high_pop[\"median_income\"].idxmin()]\n",
    "\n",
    "print lowest_income_county, lowest_income_high_pop_county"
   ]
  },
  {
   "cell_type": "markdown",
   "metadata": {},
   "source": [
    "## 2: Random Numbers\n",
    "\n",
    "Sometimes, instead of looking at a whole dataset, you just want to take a sample of it.\n",
    "\n",
    "The ACS randomly samples all of the addresses in the US, and picks about 1 in every 40 to participate.\n",
    "\n",
    "Let's look at how we can generate a random sample. The first step is to generate random numbers. We can use the `random` package in Python to do this for us."
   ]
  },
  {
   "cell_type": "code",
   "execution_count": 36,
   "metadata": {
    "collapsed": false
   },
   "outputs": [
    {
     "data": {
      "text/plain": [
       "4"
      ]
     },
     "execution_count": 36,
     "metadata": {},
     "output_type": "execute_result"
    }
   ],
   "source": [
    "# Returns a random integer between the numbers 0 and 10, inclusive.\n",
    "random.randint(0,10)"
   ]
  },
  {
   "cell_type": "code",
   "execution_count": 37,
   "metadata": {
    "collapsed": false
   },
   "outputs": [
    {
     "data": {
      "text/plain": [
       "[4, 7, 7, 1, 1, 2, 6, 3, 7, 8]"
      ]
     },
     "execution_count": 37,
     "metadata": {},
     "output_type": "execute_result"
    }
   ],
   "source": [
    "# Generate a sequence of 10 random numbers between the values of 0 and 10.\n",
    "[random.randint(0,10) for _ in range(10)]"
   ]
  },
  {
   "cell_type": "code",
   "execution_count": 38,
   "metadata": {
    "collapsed": false
   },
   "outputs": [
    {
     "name": "stdout",
     "output_type": "stream",
     "text": [
      "[6, 4, 6, 2, 8]\n"
     ]
    }
   ],
   "source": [
    "# Sometimes, when we generate a random sequence, we want it to be the same sequence whenever the program is run.\n",
    "# We can ensure this by setting a random seed.\n",
    "# A random seed is an integer that is used to \"seed\" a random number generator.\n",
    "# After a random seed is set, the numbers generated after will follow the same sequence.\n",
    "random.seed(10)\n",
    "print([random.randint(0,10) for _ in range(5)])"
   ]
  },
  {
   "cell_type": "code",
   "execution_count": 39,
   "metadata": {
    "collapsed": false
   },
   "outputs": [
    {
     "name": "stdout",
     "output_type": "stream",
     "text": [
      "[6, 4, 6, 2, 8]\n"
     ]
    }
   ],
   "source": [
    "random.seed(10)\n",
    "# Same sequence as above.\n",
    "print([random.randint(0,10) for _ in range(5)])"
   ]
  },
  {
   "cell_type": "code",
   "execution_count": 40,
   "metadata": {
    "collapsed": false
   },
   "outputs": [
    {
     "name": "stdout",
     "output_type": "stream",
     "text": [
      "[4, 6, 10, 5, 5]\n"
     ]
    }
   ],
   "source": [
    "random.seed(11)\n",
    "# Different seed means different sequence.\n",
    "print([random.randint(0,10) for _ in range(5)])"
   ]
  },
  {
   "cell_type": "markdown",
   "metadata": {},
   "source": [
    "## 3: Selecting Items From A List\n",
    "\n",
    "When we do sampling, we usually want to select a certain number of items from a list. There are a few ways to do this.\n",
    "\n",
    "The easiest way is to use the `random.sample` method to select a specified number of items from a list."
   ]
  },
  {
   "cell_type": "markdown",
   "metadata": {},
   "source": [
    "## 4: Population Vs Sample\n",
    "\n",
    "\n",
    "### Instructions\n",
    "\n",
    "- Set the random seed to `1`, then generate a medium sample of `100` die rolls. Plot the result using a histogram with 6 bins.\n",
    "- Set the random seed to `1`, then generate a large sample of `10000` die rolls. Plot the result using a histogram with 6 bins."
   ]
  },
  {
   "cell_type": "code",
   "execution_count": 42,
   "metadata": {
    "collapsed": false
   },
   "outputs": [
    {
     "data": {
      "image/png": "[encoded data removed]",
      "text/plain": [
       "<matplotlib.figure.Figure at 0x1167bacd0>"
      ]
     },
     "metadata": {},
     "output_type": "display_data"
    }
   ],
   "source": [
    "def roll():\n",
    "    return random.randint(1,6)\n",
    "\n",
    "random.seed(1)\n",
    "small_sample = [roll() for _ in range(100)]\n",
    "\n",
    "plt.hist(small_sample, bins=6)\n",
    "plt.show()"
   ]
  },
  {
   "cell_type": "code",
   "execution_count": 43,
   "metadata": {
    "collapsed": false
   },
   "outputs": [
    {
     "data": {
      "image/png": "[encoded data removed]",
      "text/plain": [
       "<matplotlib.figure.Figure at 0x1168cb1d0>"
      ]
     },
     "metadata": {},
     "output_type": "display_data"
    }
   ],
   "source": [
    "random.seed(1)\n",
    "large_sample = [roll() for _ in range(10000)]\n",
    "\n",
    "plt.hist(large_sample, bins=6)\n",
    "plt.show()"
   ]
  },
  {
   "cell_type": "markdown",
   "metadata": {},
   "source": [
    "## 5: Finding The Right Sample Size\n",
    "\n",
    "### Instructions\n",
    "\n",
    "- Set the random seed to `1`, then generate probabilities for `300` trials of `100` die rolls each. Make a histogram with `20`bins.\n",
    "- Set the random seed to `1`, then generate probabilities for `300` trials of `1000` die rolls each. Make a histogram with `20` bins."
   ]
  },
  {
   "cell_type": "code",
   "execution_count": 50,
   "metadata": {
    "collapsed": false
   },
   "outputs": [
    {
     "data": {
      "image/png": "[encoded data removed]",
      "text/plain": [
       "<matplotlib.figure.Figure at 0x1182f5cd0>"
      ]
     },
     "metadata": {},
     "output_type": "display_data"
    }
   ],
   "source": [
    "def probability_of_one(num_trials, num_rolls):\n",
    "    \"\"\"\n",
    "    This function will take in the number of trials, and the number of rolls per trial.\n",
    "    Then it will conduct each trial, and record the probability of rolling a one.\n",
    "    \"\"\"\n",
    "    probabilities = []\n",
    "    for i in range(num_trials):\n",
    "        die_rolls = [roll() for _ in range(num_rolls)]\n",
    "        one_prob = len([d for d in die_rolls if d==1]) / float(num_rolls)\n",
    "        probabilities.append(one_prob)\n",
    "    return probabilities\n",
    "\n",
    "random.seed(1)\n",
    "small_sample = probability_of_one(300, 100)\n",
    "plt.hist(small_sample, bins=20)\n",
    "plt.ylim(0,70)\n",
    "plt.xlim(0,0.4)\n",
    "plt.show()"
   ]
  },
  {
   "cell_type": "code",
   "execution_count": 51,
   "metadata": {
    "collapsed": false
   },
   "outputs": [
    {
     "data": {
      "image/png": "[encoded data removed]",
      "text/plain": [
       "<matplotlib.figure.Figure at 0x118301ed0>"
      ]
     },
     "metadata": {},
     "output_type": "display_data"
    }
   ],
   "source": [
    "random.seed(1)\n",
    "large_sample = probability_of_one(300, 1000)\n",
    "plt.hist(large_sample, 20)\n",
    "plt.ylim(0,70)\n",
    "plt.xlim(0,0.4)\n",
    "plt.show()"
   ]
  },
  {
   "cell_type": "markdown",
   "metadata": {},
   "source": [
    "## 7: Sampling Counties"
   ]
  },
  {
   "cell_type": "code",
   "execution_count": 57,
   "metadata": {
    "collapsed": false
   },
   "outputs": [
    {
     "data": {
      "image/png": "[encoded data removed]",
      "text/plain": [
       "<matplotlib.figure.Figure at 0x118301890>"
      ]
     },
     "metadata": {},
     "output_type": "display_data"
    }
   ],
   "source": [
    "def select_random_sample(count):\n",
    "    # randomly choose \"count\" numbers from 0 to \"rows\"\n",
    "    random_indices = random.sample(range(0, income.shape[0]), count)\n",
    "    return income.iloc[random_indices]\n",
    "\n",
    "random.seed(1)\n",
    "random_sample = [select_random_sample(100)[\"median_income\"].mean() for _ in range(1000)]\n",
    "plt.hist(random_sample, 20)\n",
    "plt.show()"
   ]
  },
  {
   "cell_type": "markdown",
   "metadata": {},
   "source": [
    "## 8: An Experiment\n",
    "\n",
    "We want to see whether a certain kind of adult education can help high school graduates earn more relative to college graduates than they could otherwise.\n",
    "\n",
    "We decide to trial our program in `100`counties."
   ]
  },
  {
   "cell_type": "code",
   "execution_count": 58,
   "metadata": {
    "collapsed": false
   },
   "outputs": [
    {
     "data": {
      "image/png": "[encoded data removed]",
      "text/plain": [
       "<matplotlib.figure.Figure at 0x1170adf10>"
      ]
     },
     "metadata": {},
     "output_type": "display_data"
    }
   ],
   "source": [
    "random.seed(1)\n",
    "mean_ratios = []\n",
    "for i in range(1000):\n",
    "    sample = select_random_sample(100)\n",
    "    ratios = sample[\"median_income_hs\"] / sample[\"median_income_college\"]\n",
    "    mean_ratios.append(ratios.mean())\n",
    "\n",
    "plt.hist(mean_ratios, 20)\n",
    "plt.show()"
   ]
  },
  {
   "cell_type": "markdown",
   "metadata": {},
   "source": [
    "## 9: Statistical Significance"
   ]
  },
  {
   "cell_type": "code",
   "execution_count": 63,
   "metadata": {
    "collapsed": false
   },
   "outputs": [],
   "source": [
    "significance_value = None # ?\n",
    "mean_higher = len([m for m in mean_ratios if m >= .675])\n",
    "significance_value = mean_higher / len(mean_ratios)"
   ]
  },
  {
   "cell_type": "markdown",
   "metadata": {},
   "source": [
    "## 10: Final Result\n",
    "\n",
    "Our significance value was `.014`. Based on the entire population, only 1.4% of the time will the wage results we saw have occurred on their own. "
   ]
  },
  {
   "cell_type": "markdown",
   "metadata": {},
   "source": [
    "# Introduction to probability\n",
    "\n",
    "## 1: Probability Basics"
   ]
  },
  {
   "cell_type": "code",
   "execution_count": 2,
   "metadata": {
    "collapsed": false
   },
   "outputs": [
    {
     "data": {
      "text/html": [
       "<div>\n",
       "<style>\n",
       "    .dataframe thead tr:only-child th {\n",
       "        text-align: right;\n",
       "    }\n",
       "\n",
       "    .dataframe thead th {\n",
       "        text-align: left;\n",
       "    }\n",
       "\n",
       "    .dataframe tbody tr th {\n",
       "        vertical-align: top;\n",
       "    }\n",
       "</style>\n",
       "<table border=\"1\" class=\"dataframe\">\n",
       "  <thead>\n",
       "    <tr style=\"text-align: right;\">\n",
       "      <th></th>\n",
       "      <th>name</th>\n",
       "      <th>landmass</th>\n",
       "      <th>zone</th>\n",
       "      <th>area</th>\n",
       "      <th>population</th>\n",
       "      <th>language</th>\n",
       "      <th>religion</th>\n",
       "      <th>bars</th>\n",
       "      <th>stripes</th>\n",
       "      <th>colors</th>\n",
       "      <th>...</th>\n",
       "      <th>saltires</th>\n",
       "      <th>quarters</th>\n",
       "      <th>sunstars</th>\n",
       "      <th>crescent</th>\n",
       "      <th>triangle</th>\n",
       "      <th>icon</th>\n",
       "      <th>animate</th>\n",
       "      <th>text</th>\n",
       "      <th>topleft</th>\n",
       "      <th>botright</th>\n",
       "    </tr>\n",
       "  </thead>\n",
       "  <tbody>\n",
       "    <tr>\n",
       "      <th>0</th>\n",
       "      <td>Afghanistan</td>\n",
       "      <td>5</td>\n",
       "      <td>1</td>\n",
       "      <td>648</td>\n",
       "      <td>16</td>\n",
       "      <td>10</td>\n",
       "      <td>2</td>\n",
       "      <td>0</td>\n",
       "      <td>3</td>\n",
       "      <td>5</td>\n",
       "      <td>...</td>\n",
       "      <td>0</td>\n",
       "      <td>0</td>\n",
       "      <td>1</td>\n",
       "      <td>0</td>\n",
       "      <td>0</td>\n",
       "      <td>1</td>\n",
       "      <td>0</td>\n",
       "      <td>0</td>\n",
       "      <td>black</td>\n",
       "      <td>green</td>\n",
       "    </tr>\n",
       "    <tr>\n",
       "      <th>1</th>\n",
       "      <td>Albania</td>\n",
       "      <td>3</td>\n",
       "      <td>1</td>\n",
       "      <td>29</td>\n",
       "      <td>3</td>\n",
       "      <td>6</td>\n",
       "      <td>6</td>\n",
       "      <td>0</td>\n",
       "      <td>0</td>\n",
       "      <td>3</td>\n",
       "      <td>...</td>\n",
       "      <td>0</td>\n",
       "      <td>0</td>\n",
       "      <td>1</td>\n",
       "      <td>0</td>\n",
       "      <td>0</td>\n",
       "      <td>0</td>\n",
       "      <td>1</td>\n",
       "      <td>0</td>\n",
       "      <td>red</td>\n",
       "      <td>red</td>\n",
       "    </tr>\n",
       "  </tbody>\n",
       "</table>\n",
       "<p>2 rows × 30 columns</p>\n",
       "</div>"
      ],
      "text/plain": [
       "          name  landmass  zone  area  population  language  religion  bars  \\\n",
       "0  Afghanistan         5     1   648          16        10         2     0   \n",
       "1      Albania         3     1    29           3         6         6     0   \n",
       "\n",
       "   stripes  colors    ...     saltires  quarters  sunstars  crescent  \\\n",
       "0        3       5    ...            0         0         1         0   \n",
       "1        0       3    ...            0         0         1         0   \n",
       "\n",
       "   triangle  icon  animate text  topleft  botright  \n",
       "0         0     1        0    0    black     green  \n",
       "1         0     0        1    0      red       red  \n",
       "\n",
       "[2 rows x 30 columns]"
      ]
     },
     "execution_count": 2,
     "metadata": {},
     "output_type": "execute_result"
    }
   ],
   "source": [
    "flags = pd.read_csv(\"flags.csv\")\n",
    "flags.head(2)"
   ]
  },
  {
   "cell_type": "code",
   "execution_count": 73,
   "metadata": {
    "collapsed": false
   },
   "outputs": [
    {
     "data": {
      "text/plain": [
       "('St-Vincent', 'China')"
      ]
     },
     "execution_count": 73,
     "metadata": {},
     "output_type": "execute_result"
    }
   ],
   "source": [
    "most_bars_country = flags[\"name\"][flags[\"bars\"].idxmax()]\n",
    "highest_population_country = flags[\"name\"][flags[\"population\"].idxmax()]\n",
    "most_bars_country, highest_population_country"
   ]
  },
  {
   "cell_type": "markdown",
   "metadata": {
    "collapsed": true
   },
   "source": [
    "## 2: Calculating Probability\n",
    "\n",
    "- Determine the probability of a country having a flag with the color orange in it. Assign the result to `orange_probability`."
   ]
  },
  {
   "cell_type": "code",
   "execution_count": 3,
   "metadata": {
    "collapsed": false
   },
   "outputs": [
    {
     "data": {
      "text/plain": [
       "0.13402061855670103"
      ]
     },
     "execution_count": 3,
     "metadata": {},
     "output_type": "execute_result"
    }
   ],
   "source": [
    "orange_probability = flags[flags[\"orange\"] == 1].shape[0] / flags.shape[0]\n",
    "orange_probability"
   ]
  },
  {
   "cell_type": "markdown",
   "metadata": {},
   "source": [
    "# Calculating probabilities\n",
    "\n",
    "## 2: Probability Of Renting Bikes\n",
    "\n",
    "- Find the probability that more than `4000` bikes were rented on any given day."
   ]
  },
  {
   "cell_type": "code",
   "execution_count": 4,
   "metadata": {
    "collapsed": false
   },
   "outputs": [
    {
     "data": {
      "text/html": [
       "<div>\n",
       "<style>\n",
       "    .dataframe thead tr:only-child th {\n",
       "        text-align: right;\n",
       "    }\n",
       "\n",
       "    .dataframe thead th {\n",
       "        text-align: left;\n",
       "    }\n",
       "\n",
       "    .dataframe tbody tr th {\n",
       "        vertical-align: top;\n",
       "    }\n",
       "</style>\n",
       "<table border=\"1\" class=\"dataframe\">\n",
       "  <thead>\n",
       "    <tr style=\"text-align: right;\">\n",
       "      <th></th>\n",
       "      <th>instant</th>\n",
       "      <th>dteday</th>\n",
       "      <th>season</th>\n",
       "      <th>yr</th>\n",
       "      <th>mnth</th>\n",
       "      <th>holiday</th>\n",
       "      <th>weekday</th>\n",
       "      <th>workingday</th>\n",
       "      <th>weathersit</th>\n",
       "      <th>temp</th>\n",
       "      <th>atemp</th>\n",
       "      <th>hum</th>\n",
       "      <th>windspeed</th>\n",
       "      <th>casual</th>\n",
       "      <th>registered</th>\n",
       "      <th>cnt</th>\n",
       "    </tr>\n",
       "  </thead>\n",
       "  <tbody>\n",
       "    <tr>\n",
       "      <th>0</th>\n",
       "      <td>1</td>\n",
       "      <td>2011-01-01</td>\n",
       "      <td>1</td>\n",
       "      <td>0</td>\n",
       "      <td>1</td>\n",
       "      <td>0</td>\n",
       "      <td>6</td>\n",
       "      <td>0</td>\n",
       "      <td>2</td>\n",
       "      <td>0.344167</td>\n",
       "      <td>0.363625</td>\n",
       "      <td>0.805833</td>\n",
       "      <td>0.160446</td>\n",
       "      <td>331</td>\n",
       "      <td>654</td>\n",
       "      <td>985</td>\n",
       "    </tr>\n",
       "    <tr>\n",
       "      <th>1</th>\n",
       "      <td>2</td>\n",
       "      <td>2011-01-02</td>\n",
       "      <td>1</td>\n",
       "      <td>0</td>\n",
       "      <td>1</td>\n",
       "      <td>0</td>\n",
       "      <td>0</td>\n",
       "      <td>0</td>\n",
       "      <td>2</td>\n",
       "      <td>0.363478</td>\n",
       "      <td>0.353739</td>\n",
       "      <td>0.696087</td>\n",
       "      <td>0.248539</td>\n",
       "      <td>131</td>\n",
       "      <td>670</td>\n",
       "      <td>801</td>\n",
       "    </tr>\n",
       "  </tbody>\n",
       "</table>\n",
       "</div>"
      ],
      "text/plain": [
       "   instant      dteday  season  yr  mnth  holiday  weekday  workingday  \\\n",
       "0        1  2011-01-01       1   0     1        0        6           0   \n",
       "1        2  2011-01-02       1   0     1        0        0           0   \n",
       "\n",
       "   weathersit      temp     atemp       hum  windspeed  casual  registered  \\\n",
       "0           2  0.344167  0.363625  0.805833   0.160446     331         654   \n",
       "1           2  0.363478  0.353739  0.696087   0.248539     131         670   \n",
       "\n",
       "   cnt  \n",
       "0  985  \n",
       "1  801  "
      ]
     },
     "execution_count": 4,
     "metadata": {},
     "output_type": "execute_result"
    }
   ],
   "source": [
    "bikes = pd.read_csv(\"bike_rental_day.csv\")\n",
    "bikes.head(2)"
   ]
  },
  {
   "cell_type": "code",
   "execution_count": 6,
   "metadata": {
    "collapsed": false
   },
   "outputs": [
    {
     "data": {
      "text/plain": [
       "0.6183310533515732"
      ]
     },
     "execution_count": 6,
     "metadata": {},
     "output_type": "execute_result"
    }
   ],
   "source": [
    "probability_over_4000 = bikes[bikes[\"cnt\"] > 4000].shape[0] / bikes.shape[0]\n",
    "probability_over_4000"
   ]
  },
  {
   "cell_type": "markdown",
   "metadata": {},
   "source": [
    "## 8: Finding The Number Of Combinations\n",
    "\n",
    "Find the number of combinations in which `7` days out of `10`have more than `4000` rentals."
   ]
  },
  {
   "cell_type": "code",
   "execution_count": 8,
   "metadata": {
    "collapsed": false
   },
   "outputs": [
    {
     "data": {
      "text/plain": [
       "120.0"
      ]
     },
     "execution_count": 8,
     "metadata": {},
     "output_type": "execute_result"
    }
   ],
   "source": [
    "def find_outcome_combinations(N, k):\n",
    "    numerator = math.factorial(N)\n",
    "    denominator = math.factorial(k) * math.factorial(N - k)\n",
    "    return numerator / denominator\n",
    "\n",
    "find_outcome_combinations(10, 7)"
   ]
  },
  {
   "cell_type": "markdown",
   "metadata": {},
   "source": [
    "## 12: Function To Calculate The Probability Of A Single Combination\n",
    "\n",
    "- Calculate the probability of `8` days out of `10` having more than `4000` riders."
   ]
  },
  {
   "cell_type": "code",
   "execution_count": 9,
   "metadata": {
    "collapsed": false
   },
   "outputs": [
    {
     "data": {
      "text/plain": [
       "0.1400730641914308"
      ]
     },
     "execution_count": 9,
     "metadata": {},
     "output_type": "execute_result"
    }
   ],
   "source": [
    "def find_combination_probability(N, k):\n",
    "    p = probability_over_4000\n",
    "    q = 1 - p\n",
    "    return p ** (k) * q ** (N-k)\n",
    "\n",
    "find_outcome_combinations(10, 8) * find_combination_probability(10, 8)"
   ]
  },
  {
   "cell_type": "markdown",
   "metadata": {},
   "source": [
    "# Probability distributions\n",
    "\n",
    "## 2: Binomial Distributions\n",
    "\n"
   ]
  },
  {
   "cell_type": "code",
   "execution_count": 14,
   "metadata": {
    "collapsed": false
   },
   "outputs": [
    {
     "data": {
      "image/png": "[encoded data removed]",
      "text/plain": [
       "<matplotlib.figure.Figure at 0x112323a90>"
      ]
     },
     "metadata": {},
     "output_type": "display_data"
    }
   ],
   "source": [
    "# Create a range of numbers from 0 to 30, with 31 elements (each number has one entry).\n",
    "outcome_counts = scipy.linspace(0,30,31)\n",
    "# Create the binomial distribution.\n",
    "outcome_probs = stats.binom.pmf(outcome_counts,30,0.39)\n",
    "plt.bar(outcome_counts, outcome_probs)\n",
    "plt.show()"
   ]
  },
  {
   "cell_type": "markdown",
   "metadata": {},
   "source": [
    "## 12: Cumulative Density Function"
   ]
  },
  {
   "cell_type": "code",
   "execution_count": 30,
   "metadata": {
    "collapsed": false
   },
   "outputs": [
    {
     "data": {
      "image/png": "[encoded data removed]",
      "text/plain": [
       "<matplotlib.figure.Figure at 0x116323510>"
      ]
     },
     "metadata": {},
     "output_type": "display_data"
    }
   ],
   "source": [
    "outcome_probs = stats.binom.cdf(outcome_counts,30,0.39)\n",
    "plt.bar(outcome_counts, outcome_probs)\n",
    "plt.show()"
   ]
  },
  {
   "cell_type": "code",
   "execution_count": 27,
   "metadata": {
    "collapsed": false
   },
   "outputs": [
    {
     "data": {
      "text/plain": [
       "0.96230037660548828"
      ]
     },
     "execution_count": 27,
     "metadata": {},
     "output_type": "execute_result"
    }
   ],
   "source": [
    "stats.binom.cdf(16,30,0.39)"
   ]
  },
  {
   "cell_type": "markdown",
   "metadata": {},
   "source": [
    "# Significance Testing\n",
    "\n",
    "- if a new weight loss pill helped people lose more weight:\n",
    "  - null hypothesis: patients who went on the weight loss pill lost no more weight than those who didn't.\n",
    "  - alternative hypothesis: patients who went on the weight loss pill lost more weight than those who didn't.\n",
    "\n",
    "## 2: Research Design\n",
    "\n",
    "- Group A was given a placebo, or fake, pill and instructed to consume it on a daily basis.\n",
    "- Group B was given the actual weight loss pill and instructed to consume it on a daily basis."
   ]
  },
  {
   "cell_type": "code",
   "execution_count": 22,
   "metadata": {
    "collapsed": false
   },
   "outputs": [
    {
     "data": {
      "image/png": "[encoded data removed]",
      "text/plain": [
       "<matplotlib.figure.Figure at 0x115a54410>"
      ]
     },
     "metadata": {},
     "output_type": "display_data"
    },
    {
     "data": {
      "image/png": "[encoded data removed]",
      "text/plain": [
       "<matplotlib.figure.Figure at 0x1159cb050>"
      ]
     },
     "metadata": {},
     "output_type": "display_data"
    }
   ],
   "source": [
    "weight_lost = pd.read_csv(\"weight_loss.csv\", header=None)\n",
    "weight_lost_a = weight_lost[[0]]\n",
    "weight_lost_b = weight_lost[[1]]\n",
    "mean_group_a = np.mean(weight_lost_a)[0]\n",
    "mean_group_b = np.mean(weight_lost_b)[1]\n",
    "\n",
    "plt.hist(weight_lost_a)\n",
    "plt.show()\n",
    "plt.hist(weight_lost_b)\n",
    "plt.show()"
   ]
  },
  {
   "cell_type": "markdown",
   "metadata": {},
   "source": [
    "## 4: Test Statistic\n",
    "\n",
    "x¯b−x¯a\n",
    "\n",
    "Null hypothesis: x¯b−x¯a=0\n",
    "\n",
    "Alternative hypothesis: x¯b−x¯a>0"
   ]
  },
  {
   "cell_type": "code",
   "execution_count": 23,
   "metadata": {
    "collapsed": false
   },
   "outputs": [
    {
     "name": "stdout",
     "output_type": "stream",
     "text": [
      "2.52\n"
     ]
    }
   ],
   "source": [
    "mean_difference = mean_group_b - mean_group_a\n",
    "print(mean_difference)"
   ]
  },
  {
   "cell_type": "markdown",
   "metadata": {},
   "source": [
    "## 5: Permutation Test\n",
    "\n",
    "The **permutation test** is a statistical test that involves simulating rerunning the study many times and recalculating the test statistic for each iteration. The goal is to calculate a distribution of the test statistics over these many iterations. This distribution is called the **sampling distribution** and it approximates the full range of possible test statistics under the null hypothesis. We can then benchmark the test statistic we observed in the data (a mean difference of `2.52`) to determine how likely it is to observe this mean difference under the null hypothesis. If the null hypothesis is true, then the observed mean difference of `2.52` should be quite common in the sampling distribution. "
   ]
  },
  {
   "cell_type": "code",
   "execution_count": 24,
   "metadata": {
    "collapsed": false
   },
   "outputs": [
    {
     "data": {
      "image/png": "[encoded data removed]",
      "text/plain": [
       "<matplotlib.figure.Figure at 0x11616e890>"
      ]
     },
     "metadata": {},
     "output_type": "display_data"
    }
   ],
   "source": [
    "all_values = weight_lost[0].tolist() + weight_lost[1].tolist()\n",
    "mean_differences = []\n",
    "for i in range(1000):\n",
    "    group_a = []\n",
    "    group_b = []\n",
    "    for value in all_values:\n",
    "        assignment_chance = np.random.rand()\n",
    "        if assignment_chance >= 0.5:\n",
    "            group_a.append(value)\n",
    "        else:\n",
    "            group_b.append(value)\n",
    "    iteration_mean_difference = np.mean(group_b) - np.mean(group_a)\n",
    "    mean_differences.append(iteration_mean_difference)\n",
    "    \n",
    "plt.hist(mean_differences)\n",
    "plt.show()"
   ]
  },
  {
   "cell_type": "markdown",
   "metadata": {
    "collapsed": true
   },
   "source": [
    "## 6: Sampling Distribution\n",
    "\n",
    "By creating many permutations, we're able to see all possible configurations of this error.\n",
    "\n",
    "Now create a *dictionary* that contains the values in the sampling distribution so we can benchmark our observed test statistic against it. The keys in the *dictionary* should be the test statistic and the values should be their frequency.\n",
    "\n",
    "## 7: Dictionary Representation Of A Distribution\n",
    "\n",
    "To check if a key exists in a *dictionary*, we need to use the [`get()` method](https://docs.python.org/3/library/stdtypes.html#dict.get) to:\n",
    "\n",
    "- return the value at the specified key if it exists in the dictionary or\n",
    "- return another value we specify instead."
   ]
  },
  {
   "cell_type": "code",
   "execution_count": 28,
   "metadata": {
    "collapsed": false
   },
   "outputs": [
    {
     "data": {
      "text/plain": [
       "False"
      ]
     },
     "execution_count": 28,
     "metadata": {},
     "output_type": "execute_result"
    }
   ],
   "source": [
    "empty = {}\n",
    "empty.get(\"a\", False)"
   ]
  },
  {
   "cell_type": "code",
   "execution_count": 27,
   "metadata": {
    "collapsed": false
   },
   "outputs": [
    {
     "data": {
      "text/plain": [
       "'boat'"
      ]
     },
     "execution_count": 27,
     "metadata": {},
     "output_type": "execute_result"
    }
   ],
   "source": [
    "empty[\"b\"] = \"boat\"\n",
    "empty.get(\"b\", False)"
   ]
  },
  {
   "cell_type": "code",
   "execution_count": 30,
   "metadata": {
    "collapsed": false
   },
   "outputs": [
    {
     "data": {
      "text/plain": [
       "2"
      ]
     },
     "execution_count": 30,
     "metadata": {},
     "output_type": "execute_result"
    }
   ],
   "source": [
    "empty = {\"c\": 1}\n",
    "if empty.get(\"c\", False):\n",
    "    val = empty.get(\"c\")\n",
    "    inc = val + 1\n",
    "    empty[\"c\"] = inc\n",
    "else:\n",
    "    empty[\"c\"] = 1\n",
    "empty[\"c\"]"
   ]
  },
  {
   "cell_type": "code",
   "execution_count": 35,
   "metadata": {
    "collapsed": true
   },
   "outputs": [],
   "source": [
    "sampling_distribution = {}\n",
    "for df in mean_differences:\n",
    "    if sampling_distribution.get(df, False):\n",
    "        sampling_distribution[df] += 1\n",
    "    else:\n",
    "        sampling_distribution[df] = 1"
   ]
  },
  {
   "cell_type": "markdown",
   "metadata": {},
   "source": [
    "## 8: P Value\n",
    "\n",
    "Since the observed test statistic is not near `0`, it could mean that the weight loss pills could be responsible for the mean difference in the study.\n",
    "\n",
    "We can now use the sampling distribution to determine the number of times a value of `2.52` or higher appeared in our simulations. If we then divide that frequency by `1000`, we'll have the probability of observing a mean difference of `2.52` or higher purely due to random chance.\n",
    "\n",
    "This probability is called the **p value**. If this value is high, it means that the difference in the amount of weight both groups lost could have *easily* happened randomly and the weight loss pills probably didn't play a role. \n",
    "\n",
    "Set the **p value threshold** before conducting the study:\n",
    "\n",
    "- if the p value is less than the threshold, we:\n",
    "  - reject the null hypothesis\n",
    "\n",
    "The most common p value threshold is 5%."
   ]
  },
  {
   "cell_type": "code",
   "execution_count": 45,
   "metadata": {
    "collapsed": false
   },
   "outputs": [
    {
     "data": {
      "text/plain": [
       "0.0"
      ]
     },
     "execution_count": 45,
     "metadata": {},
     "output_type": "execute_result"
    }
   ],
   "source": [
    "frequencies = []\n",
    "for sp in sampling_distribution.keys():\n",
    "    if sp >= 2.52:\n",
    "        frequencies.append(sampling_distribution[sp])\n",
    "p_value = np.sum(frequencies) / 1000\n",
    "p_value"
   ]
  },
  {
   "cell_type": "markdown",
   "metadata": {},
   "source": [
    "## 9: Caveats\n",
    "\n",
    "Since the p value of `0` is less than the threshold we set of `0.05`, we conclude that the difference in weight lost can't be attributed to random chance alone. We therefore reject the null hypothesis and accept the alternative hypothesis. A few caveats:\n",
    "\n",
    "- The p value threshold:\n",
    "  - If you set too high of a p value threshold, you may accept the alternative hypothesis incorrectly and reject the null hypothesis. This is known as a [**type I error**](https://en.wikipedia.org/wiki/Type_I_and_type_II_errors).\n",
    "  - If you set too low of a p value threshold, you may reject the alternative hypothesis incorrectly in favor of accepting the null hypothesis. This is known as a [**type II error**](https://en.wikipedia.org/wiki/Type_I_and_type_II_errors)."
   ]
  },
  {
   "cell_type": "markdown",
   "metadata": {},
   "source": [
    "# Chi-squared tests\n",
    "\n",
    "## 1: Observed And Expected Frequencies\n",
    "\n",
    "The chi-squared test enables us to quantify the difference between sets of observed and expected categorical values."
   ]
  },
  {
   "cell_type": "markdown",
   "metadata": {},
   "source": [
    "## 3: Updating The Formula\n",
    "\n",
    "\n",
    "|          | Male    | Female  | Total |\n",
    "| -------- | ------- | ------- | ----- |\n",
    "| Observed | 21790   | 10771   | 32561 |\n",
    "| Expected | 16280.5 | 16280.5 | 32561 |\n",
    "\n",
    "What we really want to find is one number that can tell us how much all of our observed counts deviate from all of their expected counterparts. This will let us figure out if our difference in counts is statistically significant. We can get one step closer to this by squaring the top term in our difference formula:\n",
    "\n",
    "$\\frac{(\\text{observed}−\\text{expected})^2}{\\text{expected}}$\n",
    "\n",
    "Squaring the difference will ensure that all the differences don't sum to zero (you can't have negative squares), giving us a non-zero number we can use to assess statistical significance.\n",
    "\n",
    "We can calculate χ2, the chi-squared value, by adding up all of the squared differences between observed and expected values."
   ]
  },
  {
   "cell_type": "code",
   "execution_count": 51,
   "metadata": {
    "collapsed": false
   },
   "outputs": [
    {
     "data": {
      "text/plain": [
       "3728.950615767329"
      ]
     },
     "execution_count": 51,
     "metadata": {},
     "output_type": "execute_result"
    }
   ],
   "source": [
    "female_diff = (10771 - 16280.5) ** 2 / 16280.5\n",
    "male_diff = (21790 - 16280.5) ** 2 / 16280.5\n",
    "gender_chisq = female_diff + male_diff\n",
    "gender_chisq"
   ]
  },
  {
   "cell_type": "markdown",
   "metadata": {},
   "source": [
    "## 4: Generating A Distribution\n",
    "\n",
    "We need a way to figure out what the chi-squared value represents. We can translate a chi-squared value into a statistical significance value using a chi-squared sampling distribution. A p-value allows us to determine whether the difference between two values is due to chance, or due to an underlying difference.\n",
    "\n",
    "We can generate a chi-squared sampling distribution using our expected probabilities. If we repeatedly generate random samples that contain `32561`samples, and graph the chi-squared value of each sample, we'll be able to generate a distribution. \n",
    "\n",
    "By comparing our chi-squared value to the distribution, and seeing what percentage of the distribution is greater than our value, we'll get a p-value. For instance, if `5%` of the values in the distribution are greater than our chi-squared value, the p-value is `.05`."
   ]
  },
  {
   "cell_type": "code",
   "execution_count": 50,
   "metadata": {
    "collapsed": false
   },
   "outputs": [
    {
     "data": {
      "text/plain": [
       "(array([ 714.,  156.,   58.,   35.,   20.,   11.,    2.,    3.,    0.,    1.]),\n",
       " array([  2.50015356e-01,   8.55637553e+03,   1.71125010e+04,\n",
       "          2.56686266e+04,   3.42247521e+04,   4.27808776e+04,\n",
       "          5.13370031e+04,   5.98931286e+04,   6.84492541e+04,\n",
       "          7.70053796e+04,   8.55615051e+04]),\n",
       " <a list of 10 Patch objects>)"
      ]
     },
     "execution_count": 50,
     "metadata": {},
     "output_type": "execute_result"
    },
    {
     "data": {
      "image/png": "[encoded data removed]",
      "text/plain": [
       "<matplotlib.figure.Figure at 0x11630a2d0>"
      ]
     },
     "metadata": {},
     "output_type": "display_data"
    }
   ],
   "source": [
    "chi_squared_values = []\n",
    "for i in range(1000):\n",
    "    sequence = np.random.random((32561,)) #  a vector with 32561 elements, random numbers between 0.0 and 1.0\n",
    "    sequence[sequence < .5] = 0\n",
    "    sequence[sequence >= .5] = 1\n",
    "    male_count = len(sequence[sequence == 0])\n",
    "    female_count = len(sequence[sequence == 1])\n",
    "    male_diff = (male_count - 16280.5) ** 2 / 16280.5 # Our expected values were 16280.5 Females and 16280.5 Males\n",
    "    female_diff = (female_count - 16280.5) ** 2\n",
    "    chi_squared = male_diff + female_diff\n",
    "    chi_squared_values.append(chi_squared)\n",
    "plt.hist(chi_squared_values)"
   ]
  },
  {
   "cell_type": "markdown",
   "metadata": {},
   "source": [
    "## 5: Statistical Significance\n",
    "\n",
    "The chi-squared value we calculated was `3728.95`. The highest value in the chi-squared sampling distribution was about `12`. This means that our chi-squared value is higher than `100%` of all the values in the sampling distribution, so we get a p-value of `0`. This means that there is a `0%` chance that we could get such a result randomly."
   ]
  },
  {
   "cell_type": "markdown",
   "metadata": {},
   "source": [
    "## 6: Smaller Samples\n",
    "\n",
    "One interesting thing about chi-squared values is that they get smaller as the sample size decreases. So as sample size changes, the chi-squared value changes proportionally."
   ]
  },
  {
   "cell_type": "code",
   "execution_count": 52,
   "metadata": {
    "collapsed": false
   },
   "outputs": [
    {
     "data": {
      "text/plain": [
       "37.2895061576733"
      ]
     },
     "execution_count": 52,
     "metadata": {},
     "output_type": "execute_result"
    }
   ],
   "source": [
    "female_diff = (107.71 - 162.805) ** 2 / 162.805\n",
    "male_diff = (217.90 - 162.805) ** 2 / 162.805\n",
    "female_diff + male_diff"
   ]
  },
  {
   "cell_type": "markdown",
   "metadata": {},
   "source": [
    "## 7: Sampling Distribution Equality\n",
    "\n",
    "As sample sizes get larger, seeing large deviations from the expected probabilities gets less and less likely. The chi-squared value follows the same principle. Chi-squared values for the same sized effect increase as sample size increases, but the chance of getting a high chi-squared value decreases as the sample gets larger.\n",
    "\n",
    "These two effects offset each other, and a chi-squared sampling distribution constructed when sampling `200` items for each iteration will look identical to one sampling `1000` items.\n",
    "\n",
    "This enables us to easily compare any chi-squared value to a master sampling distribution to determine statistical significance, no matter what sample size the chi-squared value was created with."
   ]
  },
  {
   "cell_type": "code",
   "execution_count": 53,
   "metadata": {
    "collapsed": false
   },
   "outputs": [
    {
     "data": {
      "text/plain": [
       "(array([ 780.,  126.,   54.,   22.,    9.,    2.,    4.,    1.,    1.,    1.]),\n",
       " array([  0.        ,   1.36533333,   2.73066667,   4.096     ,\n",
       "          5.46133333,   6.82666667,   8.192     ,   9.55733333,\n",
       "         10.92266667,  12.288     ,  13.65333333]),\n",
       " <a list of 10 Patch objects>)"
      ]
     },
     "execution_count": 53,
     "metadata": {},
     "output_type": "execute_result"
    },
    {
     "data": {
      "image/png": "[encoded data removed]",
      "text/plain": [
       "<matplotlib.figure.Figure at 0x11621d850>"
      ]
     },
     "metadata": {},
     "output_type": "display_data"
    }
   ],
   "source": [
    "chi_squared_values = []\n",
    "for i in range(1000):\n",
    "    sequence = np.random.random((300,))\n",
    "    male_count = len(sequence[sequence < .5])\n",
    "    female_count = len(sequence[sequence >= .5])\n",
    "    male_diff = (male_count - 150) ** 2 /150\n",
    "    female_diff = (female_count - 150) ** 2 /150\n",
    "    chi_squared_values.append(male_diff + female_diff)\n",
    "plt.hist(chi_squared_values)"
   ]
  },
  {
   "cell_type": "markdown",
   "metadata": {},
   "source": [
    "## 8: Degrees Of Freedom\n",
    "\n",
    "A degree of freedom is the number of values that can vary without the other values being \"locked in\". In the case of our two categories, there is actually only one degree of freedom. "
   ]
  },
  {
   "cell_type": "code",
   "execution_count": 54,
   "metadata": {
    "collapsed": false
   },
   "outputs": [
    {
     "data": {
      "text/plain": [
       "1080.485936593381"
      ]
     },
     "execution_count": 54,
     "metadata": {},
     "output_type": "execute_result"
    }
   ],
   "source": [
    "diffs = []\n",
    "observed = [27816, 3124, 1039, 311, 271]\n",
    "expected = [26146.5, 3939.9, 944.3, 260.5, 1269.8]\n",
    "\n",
    "for i, obs in enumerate(observed):\n",
    "    exp = expected[i]\n",
    "    diff = (obs - exp) ** 2 / exp\n",
    "    diffs.append(diff)\n",
    "    \n",
    "sum(diffs)"
   ]
  },
  {
   "cell_type": "code",
   "execution_count": 55,
   "metadata": {
    "collapsed": false
   },
   "outputs": [
    {
     "data": {
      "text/plain": [
       "1080.485936593381"
      ]
     },
     "execution_count": 55,
     "metadata": {},
     "output_type": "execute_result"
    }
   ],
   "source": [
    "observed = np.array([27816, 3124, 1039, 311, 271])\n",
    "expected = np.array([26146.5, 3939.9, 944.3, 260.5, 1269.8])\n",
    "\n",
    "chisquare_value, race_pvalue = stats.chisquare(observed, expected)\n",
    "chisquare_value"
   ]
  },
  {
   "cell_type": "markdown",
   "metadata": {},
   "source": [
    "## 10: Using SciPy\n",
    "\n",
    "Rather than constructing another chi-squared sampling distribution for `4`degrees of freedom, the [scipy.stats.chisquare](http://docs.scipy.org/doc/scipy/reference/generated/scipy.stats.mstats.chisquare.html) function takes in an array of observed frequences, and an array of expected frequencies, and returns a tuple containing both the chi-squared value and the matching p-value that we can use to check for statistical significance.\n",
    "\n",
    "Here's a usage example:\n",
    "\n",
    "```\n",
    "import numpy as np\n",
    "from scipy.stats import chisquare\n",
    "\n",
    "observed = np.array([5, 10, 15])\n",
    "expected = np.array([7, 11, 12])\n",
    "chisquare_value, pvalue = chisquare(observed, expected)\n",
    "```\n",
    "\n",
    "The [scipy.stats.chisquare](http://docs.scipy.org/doc/scipy/reference/generated/scipy.stats.mstats.chisquare.html) function returns a list, so we can assign each item in the list to a separate variable using 2 variable names separated with a comma, like you see above."
   ]
  }
 ],
 "metadata": {
  "anaconda-cloud": {},
  "kernelspec": {
   "display_name": "Python [Root]",
   "language": "python",
   "name": "Python [Root]"
  },
  "language_info": {
   "codemirror_mode": {
    "name": "ipython",
    "version": 2
   },
   "file_extension": ".py",
   "mimetype": "text/x-python",
   "name": "python",
   "nbconvert_exporter": "python",
   "pygments_lexer": "ipython2",
   "version": "2.7.12"
  }
 },
 "nbformat": 4,
 "nbformat_minor": 0
}
