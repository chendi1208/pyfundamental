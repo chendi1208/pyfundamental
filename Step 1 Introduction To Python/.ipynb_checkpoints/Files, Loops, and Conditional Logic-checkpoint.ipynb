{
 "cells": [
  {
   "cell_type": "markdown",
   "metadata": {},
   "source": [
    "Purpose: convert the list of strings to a list of lists and convert each element to proper type values"
   ]
  },
  {
   "cell_type": "code",
   "execution_count": 1,
   "metadata": {
    "collapsed": false
   },
   "outputs": [
    {
     "data": {
      "text/plain": [
       "'\"\",\"name\",\"total\",\"male_share\",\"female_share\",\"gap\"\\n\"1\",\"Casey\",176544.328149,0.584286566204162,0.415713433795838,0.168573132408324\\n\"2\",\"Riley\",154860.665173,0.507639071226889,0.492360928773111,0.0152781424537786\\n\"3\",\"Jessie\",136381.830656,0.47783426831522,0.52216573168478,0.04433146336956\\n\"4\",\"Jackie\",132928.78874,0.421132601798505,0.578867398201495,0.15773479640299\\n\"5\",\"Avery\",121797.419516,0.335213073103216,0.664786926896784,0.329573853793568\\n\"6\",\"Jaime\",109870.18729,0.561792900862907,0.43820'"
      ]
     },
     "execution_count": 1,
     "metadata": {},
     "output_type": "execute_result"
    }
   ],
   "source": [
    "f = open('dq_unisex_names.csv', 'r')\n",
    "names = f.read()\n",
    "names[0:500]"
   ]
  },
  {
   "cell_type": "code",
   "execution_count": 2,
   "metadata": {
    "collapsed": false
   },
   "outputs": [
    {
     "data": {
      "text/plain": [
       "['\"\",\"name\",\"total\",\"male_share\",\"female_share\",\"gap\"',\n",
       " '\"1\",\"Casey\",176544.328149,0.584286566204162,0.415713433795838,0.168573132408324',\n",
       " '\"2\",\"Riley\",154860.665173,0.507639071226889,0.492360928773111,0.0152781424537786',\n",
       " '\"3\",\"Jessie\",136381.830656,0.47783426831522,0.52216573168478,0.04433146336956',\n",
       " '\"4\",\"Jackie\",132928.78874,0.421132601798505,0.578867398201495,0.15773479640299']"
      ]
     },
     "execution_count": 2,
     "metadata": {},
     "output_type": "execute_result"
    }
   ],
   "source": [
    "names_list = names.split('\\n')\n",
    "names_list[0:5]"
   ]
  },
  {
   "cell_type": "code",
   "execution_count": 3,
   "metadata": {
    "collapsed": false
   },
   "outputs": [
    {
     "data": {
      "text/plain": [
       "[['\"\"', '\"name\"', '\"total\"', '\"male_share\"', '\"female_share\"', '\"gap\"'],\n",
       " ['\"1\"',\n",
       "  '\"Casey\"',\n",
       "  '176544.328149',\n",
       "  '0.584286566204162',\n",
       "  '0.415713433795838',\n",
       "  '0.168573132408324'],\n",
       " ['\"2\"',\n",
       "  '\"Riley\"',\n",
       "  '154860.665173',\n",
       "  '0.507639071226889',\n",
       "  '0.492360928773111',\n",
       "  '0.0152781424537786'],\n",
       " ['\"3\"',\n",
       "  '\"Jessie\"',\n",
       "  '136381.830656',\n",
       "  '0.47783426831522',\n",
       "  '0.52216573168478',\n",
       "  '0.04433146336956'],\n",
       " ['\"4\"',\n",
       "  '\"Jackie\"',\n",
       "  '132928.78874',\n",
       "  '0.421132601798505',\n",
       "  '0.578867398201495',\n",
       "  '0.15773479640299']]"
      ]
     },
     "execution_count": 3,
     "metadata": {},
     "output_type": "execute_result"
    }
   ],
   "source": [
    "nested_list = []\n",
    "for line in names_list:\n",
    "    comma_list = line.split(',')\n",
    "    nested_list.append(comma_list)\n",
    "nested_list[0:5]"
   ]
  },
  {
   "cell_type": "code",
   "execution_count": 4,
   "metadata": {
    "collapsed": false
   },
   "outputs": [
    {
     "data": {
      "text/plain": [
       "[['\"Casey\"', '176544.328149'],\n",
       " ['\"Riley\"', '154860.665173'],\n",
       " ['\"Jessie\"', '136381.830656'],\n",
       " ['\"Jackie\"', '132928.78874'],\n",
       " ['\"Avery\"', '121797.419516']]"
      ]
     },
     "execution_count": 4,
     "metadata": {},
     "output_type": "execute_result"
    }
   ],
   "source": [
    "final_list = []\n",
    "for i in range(len(nested_list)):\n",
    "    split_list = nested_list[i][1:3]\n",
    "    final_list.append(split_list)\n",
    "nested_list = final_list[1:]\n",
    "nested_list[0:5]"
   ]
  },
  {
   "cell_type": "code",
   "execution_count": 5,
   "metadata": {
    "collapsed": false
   },
   "outputs": [
    {
     "name": "stdout",
     "output_type": "stream",
     "text": [
      "[['\"Casey\"', 176544.328149], ['\"Riley\"', 154860.665173], ['\"Jessie\"', 136381.830656], ['\"Jackie\"', 132928.78874], ['\"Avery\"', 121797.419516]]\n"
     ]
    }
   ],
   "source": [
    "numerical_list = []\n",
    "for line in nested_list:\n",
    "    name = line[0]\n",
    "    count = float(line[1])\n",
    "    new_list = [name, count]\n",
    "    numerical_list.append(new_list)\n",
    "print(numerical_list[0:5])"
   ]
  },
  {
   "cell_type": "code",
   "execution_count": null,
   "metadata": {
    "collapsed": true
   },
   "outputs": [],
   "source": []
  }
 ],
 "metadata": {
  "anaconda-cloud": {},
  "kernelspec": {
   "display_name": "Python [Root]",
   "language": "python",
   "name": "Python [Root]"
  },
  "language_info": {
   "codemirror_mode": {
    "name": "ipython",
    "version": 2
   },
   "file_extension": ".py",
   "mimetype": "text/x-python",
   "name": "python",
   "nbconvert_exporter": "python",
   "pygments_lexer": "ipython2",
   "version": "2.7.12"
  }
 },
 "nbformat": 4,
 "nbformat_minor": 0
}
